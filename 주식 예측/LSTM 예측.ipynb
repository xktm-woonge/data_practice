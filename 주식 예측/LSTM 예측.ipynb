{
 "cells": [
  {
   "cell_type": "code",
   "execution_count": 12,
   "id": "ce4eaf9b",
   "metadata": {
    "scrolled": true
   },
   "outputs": [],
   "source": [
    "import pandas as pd\n",
    "import numpy as np\n",
    "import matplotlib.pyplot as plt\n",
    "from tensorflow.keras.models import Sequential \n",
    "from tensorflow.keras.layers import LSTM,Dropout,Dense\n",
    "import matplotlib.pyplot as plt\n",
    "\n",
    "import datetime"
   ]
  },
  {
   "cell_type": "code",
   "execution_count": 4,
   "id": "17a28fde",
   "metadata": {
    "scrolled": true
   },
   "outputs": [
    {
     "data": {
      "text/html": [
       "<div>\n",
       "<style scoped>\n",
       "    .dataframe tbody tr th:only-of-type {\n",
       "        vertical-align: middle;\n",
       "    }\n",
       "\n",
       "    .dataframe tbody tr th {\n",
       "        vertical-align: top;\n",
       "    }\n",
       "\n",
       "    .dataframe thead th {\n",
       "        text-align: right;\n",
       "    }\n",
       "</style>\n",
       "<table border=\"1\" class=\"dataframe\">\n",
       "  <thead>\n",
       "    <tr style=\"text-align: right;\">\n",
       "      <th></th>\n",
       "      <th>Date</th>\n",
       "      <th>Open</th>\n",
       "      <th>High</th>\n",
       "      <th>Low</th>\n",
       "      <th>Close</th>\n",
       "      <th>Adj Close</th>\n",
       "      <th>Volume</th>\n",
       "    </tr>\n",
       "  </thead>\n",
       "  <tbody>\n",
       "    <tr>\n",
       "      <th>0</th>\n",
       "      <td>2017-01-11</td>\n",
       "      <td>37520.0</td>\n",
       "      <td>38560.0</td>\n",
       "      <td>37420.0</td>\n",
       "      <td>38280.0</td>\n",
       "      <td>33369.289063</td>\n",
       "      <td>12018150</td>\n",
       "    </tr>\n",
       "    <tr>\n",
       "      <th>1</th>\n",
       "      <td>2017-01-12</td>\n",
       "      <td>38000.0</td>\n",
       "      <td>38800.0</td>\n",
       "      <td>37980.0</td>\n",
       "      <td>38800.0</td>\n",
       "      <td>33822.582031</td>\n",
       "      <td>11669150</td>\n",
       "    </tr>\n",
       "    <tr>\n",
       "      <th>2</th>\n",
       "      <td>2017-01-13</td>\n",
       "      <td>38100.0</td>\n",
       "      <td>38320.0</td>\n",
       "      <td>37460.0</td>\n",
       "      <td>37460.0</td>\n",
       "      <td>32654.472656</td>\n",
       "      <td>15954450</td>\n",
       "    </tr>\n",
       "    <tr>\n",
       "      <th>3</th>\n",
       "      <td>2017-01-16</td>\n",
       "      <td>36860.0</td>\n",
       "      <td>37820.0</td>\n",
       "      <td>36320.0</td>\n",
       "      <td>36660.0</td>\n",
       "      <td>31957.105469</td>\n",
       "      <td>16611500</td>\n",
       "    </tr>\n",
       "    <tr>\n",
       "      <th>4</th>\n",
       "      <td>2017-01-17</td>\n",
       "      <td>36580.0</td>\n",
       "      <td>37460.0</td>\n",
       "      <td>36580.0</td>\n",
       "      <td>36960.0</td>\n",
       "      <td>32218.613281</td>\n",
       "      <td>8150700</td>\n",
       "    </tr>\n",
       "  </tbody>\n",
       "</table>\n",
       "</div>"
      ],
      "text/plain": [
       "         Date     Open     High      Low    Close     Adj Close    Volume\n",
       "0  2017-01-11  37520.0  38560.0  37420.0  38280.0  33369.289063  12018150\n",
       "1  2017-01-12  38000.0  38800.0  37980.0  38800.0  33822.582031  11669150\n",
       "2  2017-01-13  38100.0  38320.0  37460.0  37460.0  32654.472656  15954450\n",
       "3  2017-01-16  36860.0  37820.0  36320.0  36660.0  31957.105469  16611500\n",
       "4  2017-01-17  36580.0  37460.0  36580.0  36960.0  32218.613281   8150700"
      ]
     },
     "execution_count": 4,
     "metadata": {},
     "output_type": "execute_result"
    }
   ],
   "source": [
    "data = pd.read_csv('005930.KS.csv')\n",
    "data.head()"
   ]
  },
  {
   "cell_type": "markdown",
   "id": "21588b1e",
   "metadata": {},
   "source": [
    "중간값"
   ]
  },
  {
   "cell_type": "code",
   "execution_count": 5,
   "id": "f36702be",
   "metadata": {},
   "outputs": [],
   "source": [
    "high_prices = data['High'].values\n",
    "low_prices = data['Low'].values\n",
    "mid_prices = (high_prices + low_prices)/2"
   ]
  },
  {
   "cell_type": "markdown",
   "id": "b1fbdb4e",
   "metadata": {},
   "source": [
    "create window"
   ]
  },
  {
   "cell_type": "code",
   "execution_count": 6,
   "id": "2e71edc7",
   "metadata": {},
   "outputs": [],
   "source": [
    "seq_len = 50\n",
    "sequence_length = seq_len + 1\n",
    "\n",
    "result = []\n",
    "\n",
    "for index in range(len(mid_prices) - sequence_length):\n",
    "    result.append(mid_prices[index: index+sequence_length])"
   ]
  },
  {
   "cell_type": "markdown",
   "id": "04def252",
   "metadata": {},
   "source": [
    "정규화"
   ]
  },
  {
   "cell_type": "code",
   "execution_count": 8,
   "id": "78f06761",
   "metadata": {},
   "outputs": [
    {
     "data": {
      "text/plain": [
       "((1058, 50, 1), (117, 50, 1))"
      ]
     },
     "execution_count": 8,
     "metadata": {},
     "output_type": "execute_result"
    }
   ],
   "source": [
    "normalized_data = []\n",
    "for window in result:\n",
    "    normalized_window =[((float(p)/float(window[0]))-1)for p in window]\n",
    "    normalized_data.append(normalized_window)\n",
    "    \n",
    "result = np.array(normalized_data)\n",
    "\n",
    "row = int(round(result.shape[0] * 0.9))\n",
    "train = result[:row,:]\n",
    "np.random.shuffle(train)\n",
    "\n",
    "xtrain = train[:,:-1]\n",
    "xtrain = np.reshape(xtrain, (xtrain.shape[0], xtrain.shape[1], 1))\n",
    "ytrain = train[:,-1]\n",
    "\n",
    "xtest = result[row:, :-1]\n",
    "xtest = np.reshape(xtest, (xtest.shape[0], xtest.shape[1], 1))\n",
    "ytest = result[row:, -1]\n",
    "\n",
    "xtrain.shape, xtest.shape"
   ]
  },
  {
   "cell_type": "markdown",
   "id": "bd2b8a2e",
   "metadata": {},
   "source": [
    "Model"
   ]
  },
  {
   "cell_type": "code",
   "execution_count": 9,
   "id": "e68e474a",
   "metadata": {},
   "outputs": [
    {
     "name": "stdout",
     "output_type": "stream",
     "text": [
      "Model: \"sequential\"\n",
      "_________________________________________________________________\n",
      " Layer (type)                Output Shape              Param #   \n",
      "=================================================================\n",
      " lstm (LSTM)                 (None, 50, 50)            10400     \n",
      "                                                                 \n",
      " lstm_1 (LSTM)               (None, 64)                29440     \n",
      "                                                                 \n",
      " dense (Dense)               (None, 1)                 65        \n",
      "                                                                 \n",
      "=================================================================\n",
      "Total params: 39,905\n",
      "Trainable params: 39,905\n",
      "Non-trainable params: 0\n",
      "_________________________________________________________________\n"
     ]
    }
   ],
   "source": [
    "model = Sequential()\n",
    "model.add(LSTM(50, return_sequences=True, input_shape=(50,1)))\n",
    "model.add(LSTM(64, return_sequences=False))\n",
    "model.add(Dense(1, activation='linear'))\n",
    "model.compile(loss='mse', optimizer='rmsprop')\n",
    "model.summary()"
   ]
  },
  {
   "cell_type": "code",
   "execution_count": 13,
   "id": "cbf62b0d",
   "metadata": {},
   "outputs": [
    {
     "name": "stdout",
     "output_type": "stream",
     "text": [
      "Epoch 1/20\n",
      "106/106 [==============================] - 4s 34ms/step - loss: 2.9528e-04 - val_loss: 1.1765e-04\n",
      "Epoch 2/20\n",
      "106/106 [==============================] - 4s 38ms/step - loss: 2.8530e-04 - val_loss: 1.3612e-04\n",
      "Epoch 3/20\n",
      "106/106 [==============================] - 4s 36ms/step - loss: 3.0731e-04 - val_loss: 1.5719e-04\n",
      "Epoch 4/20\n",
      "106/106 [==============================] - 4s 33ms/step - loss: 2.9787e-04 - val_loss: 2.0820e-04\n",
      "Epoch 5/20\n",
      "106/106 [==============================] - 4s 34ms/step - loss: 2.8973e-04 - val_loss: 1.1561e-04\n",
      "Epoch 6/20\n",
      "106/106 [==============================] - 4s 35ms/step - loss: 2.8465e-04 - val_loss: 1.7794e-04\n",
      "Epoch 7/20\n",
      "106/106 [==============================] - 4s 35ms/step - loss: 2.8236e-04 - val_loss: 1.2520e-04\n",
      "Epoch 8/20\n",
      "106/106 [==============================] - 4s 34ms/step - loss: 2.9192e-04 - val_loss: 1.0987e-04\n",
      "Epoch 9/20\n",
      "106/106 [==============================] - 4s 34ms/step - loss: 2.7273e-04 - val_loss: 1.3643e-04\n",
      "Epoch 10/20\n",
      "106/106 [==============================] - 4s 36ms/step - loss: 2.8877e-04 - val_loss: 1.2981e-04\n",
      "Epoch 11/20\n",
      "106/106 [==============================] - 4s 35ms/step - loss: 2.8578e-04 - val_loss: 1.2308e-04\n",
      "Epoch 12/20\n",
      "106/106 [==============================] - 4s 35ms/step - loss: 2.7997e-04 - val_loss: 1.1379e-04\n",
      "Epoch 13/20\n",
      "106/106 [==============================] - 4s 35ms/step - loss: 2.8924e-04 - val_loss: 1.3769e-04\n",
      "Epoch 14/20\n",
      "106/106 [==============================] - 4s 34ms/step - loss: 2.7478e-04 - val_loss: 1.8299e-04\n",
      "Epoch 15/20\n",
      "106/106 [==============================] - 4s 35ms/step - loss: 2.9133e-04 - val_loss: 1.5350e-04\n",
      "Epoch 16/20\n",
      "106/106 [==============================] - 4s 35ms/step - loss: 2.8757e-04 - val_loss: 1.2300e-04\n",
      "Epoch 17/20\n",
      "106/106 [==============================] - 4s 36ms/step - loss: 2.7792e-04 - val_loss: 1.1814e-04\n",
      "Epoch 18/20\n",
      "106/106 [==============================] - 4s 34ms/step - loss: 2.7922e-04 - val_loss: 1.2346e-04\n",
      "Epoch 19/20\n",
      "106/106 [==============================] - 4s 35ms/step - loss: 2.7345e-04 - val_loss: 1.3862e-04\n",
      "Epoch 20/20\n",
      "106/106 [==============================] - 4s 36ms/step - loss: 2.8180e-04 - val_loss: 1.1110e-04\n"
     ]
    },
    {
     "data": {
      "text/plain": [
       "<keras.callbacks.History at 0x1cad4d08160>"
      ]
     },
     "execution_count": 13,
     "metadata": {},
     "output_type": "execute_result"
    }
   ],
   "source": [
    "model.fit(xtrain, ytrain,\n",
    "         validation_data=(xtest,ytest),\n",
    "         batch_size=10,\n",
    "         epochs=20)"
   ]
  },
  {
   "cell_type": "code",
   "execution_count": 14,
   "id": "a1995999",
   "metadata": {},
   "outputs": [
    {
     "data": {
      "image/png": "[encoded data removed]",
      "text/plain": [
       "<Figure size 432x288 with 1 Axes>"
      ]
     },
     "metadata": {},
     "output_type": "display_data"
    }
   ],
   "source": [
    "pred = model.predict(xtest)\n",
    "\n",
    "fig = plt.figure(facecolor='white')\n",
    "ax = fig.add_subplot(111)\n",
    "ax.plot(ytest, label='True')\n",
    "ax.plot(pred, label='Prediction')\n",
    "ax.legend()\n",
    "plt.show()"
   ]
  },
  {
   "cell_type": "code",
   "execution_count": null,
   "id": "30d49e44",
   "metadata": {},
   "outputs": [],
   "source": []
  },
  {
   "cell_type": "code",
   "execution_count": null,
   "id": "b16ea6a6",
   "metadata": {},
   "outputs": [],
   "source": []
  }
 ],
 "metadata": {
  "kernelspec": {
   "display_name": "Python 3 (ipykernel)",
   "language": "python",
   "name": "python3"
  },
  "language_info": {
   "codemirror_mode": {
    "name": "ipython",
    "version": 3
   },
   "file_extension": ".py",
   "mimetype": "text/x-python",
   "name": "python",
   "nbconvert_exporter": "python",
   "pygments_lexer": "ipython3",
   "version": "3.9.7"
  }
 },
 "nbformat": 4,
 "nbformat_minor": 5
}
