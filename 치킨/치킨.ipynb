{
 "cells": [
  {
   "cell_type": "code",
   "execution_count": 8,
   "id": "74cc4db5",
   "metadata": {},
   "outputs": [],
   "source": [
    "import requests\n",
    "from tqdm import tqdm\n",
    "import time\n"
   ]
  },
  {
   "cell_type": "code",
   "execution_count": 9,
   "id": "63151c8a",
   "metadata": {},
   "outputs": [
    {
     "name": "stdout",
     "output_type": "stream",
     "text": [
      "dict_keys(['documents', 'meta'])\n"
     ]
    }
   ],
   "source": [
    "app_key = 'KakaoAK ' + 'OPENAPIKEY'\n",
    "\n",
    "url = 'https://dapi.kakao.com/v2/local/search/keyword.json'\n",
    "\n",
    "params = {\n",
    "    'query': '치킨',\n",
    "    'category_group_code': 'FD6', # 음식점\n",
    "    'page': 45\n",
    "}\n",
    "\n",
    "headers = {\n",
    "    'Authorization': app_key\n",
    "}\n",
    "\n",
    "res = requests.get(url, params=params, headers=headers).json()\n",
    "\n",
    "print(res.keys())"
   ]
  },
  {
   "cell_type": "code",
   "execution_count": 10,
   "id": "33f09f38",
   "metadata": {
    "scrolled": true
   },
   "outputs": [
    {
     "data": {
      "text/plain": [
       "[{'address_name': '부산 금정구 장전동 146-2',\n",
       "  'category_group_code': 'FD6',\n",
       "  'category_group_name': '음식점',\n",
       "  'category_name': '음식점 > 치킨',\n",
       "  'distance': '',\n",
       "  'id': '8860320',\n",
       "  'phone': '051-514-3885',\n",
       "  'place_name': '뉴숯불통닭 본점',\n",
       "  'place_url': 'http://place.map.kakao.com/8860320',\n",
       "  'road_address_name': '부산 금정구 금강로335번길 55',\n",
       "  'x': '129.0834297751688',\n",
       "  'y': '35.23775776866604'},\n",
       " {'address_name': '서울 서초구 잠원동 72-2',\n",
       "  'category_group_code': 'FD6',\n",
       "  'category_group_name': '음식점',\n",
       "  'category_name': '음식점 > 치킨',\n",
       "  'distance': '',\n",
       "  'id': '8611462',\n",
       "  'phone': '02-596-5990',\n",
       "  'place_name': '한신치킨',\n",
       "  'place_url': 'http://place.map.kakao.com/8611462',\n",
       "  'road_address_name': '서울 서초구 신반포로23길 30',\n",
       "  'x': '127.003565002416',\n",
       "  'y': '37.5087818347685'},\n",
       " {'address_name': '서울 종로구 관철동 44-1',\n",
       "  'category_group_code': 'FD6',\n",
       "  'category_group_name': '음식점',\n",
       "  'category_name': '음식점 > 치킨',\n",
       "  'distance': '',\n",
       "  'id': '26884480',\n",
       "  'phone': '02-722-9992',\n",
       "  'place_name': '미친닭 종각본점',\n",
       "  'place_url': 'http://place.map.kakao.com/26884480',\n",
       "  'road_address_name': '서울 종로구 우정국로2길 16',\n",
       "  'x': '126.983908263011',\n",
       "  'y': '37.5694541415083'},\n",
       " {'address_name': '서울 관악구 봉천동 1679-6',\n",
       "  'category_group_code': 'FD6',\n",
       "  'category_group_name': '음식점',\n",
       "  'category_name': '음식점 > 치킨',\n",
       "  'distance': '',\n",
       "  'id': '25592312',\n",
       "  'phone': '02-872-0029',\n",
       "  'place_name': '동네아저씨치킨',\n",
       "  'place_url': 'http://place.map.kakao.com/25592312',\n",
       "  'road_address_name': '서울 관악구 행운2길 16',\n",
       "  'x': '126.959882391254',\n",
       "  'y': '37.4792256509999'},\n",
       " {'address_name': '서울 영등포구 문래동4가 7-5',\n",
       "  'category_group_code': 'FD6',\n",
       "  'category_group_name': '음식점',\n",
       "  'category_name': '음식점 > 치킨',\n",
       "  'distance': '',\n",
       "  'id': '8477571',\n",
       "  'phone': '02-2637-3480',\n",
       "  'place_name': '문래동원조마늘통닭 문래본점',\n",
       "  'place_url': 'http://place.map.kakao.com/8477571',\n",
       "  'road_address_name': '서울 영등포구 도림로 469-1',\n",
       "  'x': '126.891184755124',\n",
       "  'y': '37.5158785304841'},\n",
       " {'address_name': '대구 중구 동성로3가 59-1',\n",
       "  'category_group_code': 'FD6',\n",
       "  'category_group_name': '음식점',\n",
       "  'category_name': '음식점 > 치킨',\n",
       "  'distance': '',\n",
       "  'id': '8861783',\n",
       "  'phone': '053-253-0070',\n",
       "  'place_name': '뉴욕통닭',\n",
       "  'place_url': 'http://place.map.kakao.com/8861783',\n",
       "  'road_address_name': '대구 중구 종로 12',\n",
       "  'x': '128.592373837674',\n",
       "  'y': '35.8668017150533'},\n",
       " {'address_name': '부산 수영구 광안동 120-101',\n",
       "  'category_group_code': 'FD6',\n",
       "  'category_group_name': '음식점',\n",
       "  'category_name': '음식점 > 치킨',\n",
       "  'distance': '',\n",
       "  'id': '445457740',\n",
       "  'phone': '051-754-9233',\n",
       "  'place_name': '낭만장작 누룽지통닭구이',\n",
       "  'place_url': 'http://place.map.kakao.com/445457740',\n",
       "  'road_address_name': '부산 수영구 무학로10번길 47',\n",
       "  'x': '129.11453346023265',\n",
       "  'y': '35.15967991325595'},\n",
       " {'address_name': '제주특별자치도 제주시 연동 2312-3',\n",
       "  'category_group_code': 'FD6',\n",
       "  'category_group_name': '음식점',\n",
       "  'category_name': '음식점 > 치킨',\n",
       "  'distance': '',\n",
       "  'id': '18839272',\n",
       "  'phone': '064-747-6801',\n",
       "  'place_name': '모니카옛날통닭',\n",
       "  'place_url': 'http://place.map.kakao.com/18839272',\n",
       "  'road_address_name': '제주특별자치도 제주시 도령로13길 16-3',\n",
       "  'x': '126.4890593307041',\n",
       "  'y': '33.492955629376524'},\n",
       " {'address_name': '서울 강남구 역삼동 672-30',\n",
       "  'category_group_code': 'FD6',\n",
       "  'category_group_name': '음식점',\n",
       "  'category_name': '음식점 > 치킨',\n",
       "  'distance': '',\n",
       "  'id': '16767854',\n",
       "  'phone': '02-555-0611',\n",
       "  'place_name': '호또치킨 강남본점',\n",
       "  'place_url': 'http://place.map.kakao.com/16767854',\n",
       "  'road_address_name': '서울 강남구 언주로93길 32-3',\n",
       "  'x': '127.039207687895',\n",
       "  'y': '37.5034017869659'},\n",
       " {'address_name': '서울 강남구 역삼동 817-8',\n",
       "  'category_group_code': 'FD6',\n",
       "  'category_group_name': '음식점',\n",
       "  'category_name': '음식점 > 치킨',\n",
       "  'distance': '',\n",
       "  'id': '888590919',\n",
       "  'phone': '02-554-9294',\n",
       "  'place_name': '꼬꼬아찌숯불치킨 강남역점',\n",
       "  'place_url': 'http://place.map.kakao.com/888590919',\n",
       "  'road_address_name': '서울 강남구 테헤란로1길 28-1',\n",
       "  'x': '127.027652789297',\n",
       "  'y': '37.5003128050196'},\n",
       " {'address_name': '전북 군산시 명산동 18-2',\n",
       "  'category_group_code': 'FD6',\n",
       "  'category_group_name': '음식점',\n",
       "  'category_name': '음식점 > 치킨',\n",
       "  'distance': '',\n",
       "  'id': '840463250',\n",
       "  'phone': '063-464-5755',\n",
       "  'place_name': '군산통닭',\n",
       "  'place_url': 'http://place.map.kakao.com/840463250',\n",
       "  'road_address_name': '전북 군산시 월명로 465',\n",
       "  'x': '126.70983401368832',\n",
       "  'y': '35.983255200780974'},\n",
       " {'address_name': '서울 용산구 이태원동 34-8',\n",
       "  'category_group_code': 'FD6',\n",
       "  'category_group_name': '음식점',\n",
       "  'category_name': '음식점 > 치킨',\n",
       "  'distance': '',\n",
       "  'id': '931679409',\n",
       "  'phone': '070-4078-7411',\n",
       "  'place_name': '네키드윙즈',\n",
       "  'place_url': 'http://place.map.kakao.com/931679409',\n",
       "  'road_address_name': '서울 용산구 녹사평대로 174-11',\n",
       "  'x': '126.989414558677',\n",
       "  'y': '37.5338220858695'},\n",
       " {'address_name': '경기 성남시 분당구 정자동 15-4',\n",
       "  'category_group_code': 'FD6',\n",
       "  'category_group_name': '음식점',\n",
       "  'category_name': '음식점 > 치킨',\n",
       "  'distance': '',\n",
       "  'id': '12562298',\n",
       "  'phone': '031-715-9972',\n",
       "  'place_name': '행복치킨 정자점',\n",
       "  'place_url': 'http://place.map.kakao.com/12562298',\n",
       "  'road_address_name': '경기 성남시 분당구 정자일로232번길 25',\n",
       "  'x': '127.10740512125396',\n",
       "  'y': '37.36990196705192'},\n",
       " {'address_name': '서울 종로구 체부동 39-2',\n",
       "  'category_group_code': 'FD6',\n",
       "  'category_group_name': '음식점',\n",
       "  'category_name': '음식점 > 치킨',\n",
       "  'distance': '',\n",
       "  'id': '13336632',\n",
       "  'phone': '02-736-6741',\n",
       "  'place_name': '미락치킨 경복궁본점',\n",
       "  'place_url': 'http://place.map.kakao.com/13336632',\n",
       "  'road_address_name': '서울 종로구 자하문로 17-1',\n",
       "  'x': '126.971892984074',\n",
       "  'y': '37.5776329255728'},\n",
       " {'address_name': '경기 수원시 영통구 하동 1019',\n",
       "  'category_group_code': 'FD6',\n",
       "  'category_group_name': '음식점',\n",
       "  'category_name': '음식점 > 치킨',\n",
       "  'distance': '',\n",
       "  'id': '961287831',\n",
       "  'phone': '031-215-9090',\n",
       "  'place_name': '맥쓰세계치킨 광교호수공원점',\n",
       "  'place_url': 'http://place.map.kakao.com/961287831',\n",
       "  'road_address_name': '경기 수원시 영통구 법조로 38',\n",
       "  'x': '127.06227155074092',\n",
       "  'y': '37.286899718691934'}]"
      ]
     },
     "execution_count": 10,
     "metadata": {},
     "output_type": "execute_result"
    }
   ],
   "source": [
    "res['documents']"
   ]
  },
  {
   "cell_type": "code",
   "execution_count": 11,
   "id": "435969b1",
   "metadata": {},
   "outputs": [
    {
     "data": {
      "text/plain": [
       "{'is_end': True,\n",
       " 'pageable_count': 45,\n",
       " 'same_name': {'keyword': '치킨', 'region': [], 'selected_region': ''},\n",
       " 'total_count': 56442}"
      ]
     },
     "execution_count": 11,
     "metadata": {},
     "output_type": "execute_result"
    }
   ],
   "source": [
    "res['meta']"
   ]
  },
  {
   "cell_type": "code",
   "execution_count": 12,
   "id": "52c99f8a",
   "metadata": {},
   "outputs": [
    {
     "name": "stdout",
     "output_type": "stream",
     "text": [
      "{'errorType': 'InvalidArgument', 'message': 'page is more than max'}\n"
     ]
    }
   ],
   "source": [
    "params = {\n",
    "    'query': '치킨',\n",
    "    'page': 46\n",
    "}\n",
    "\n",
    "res = requests.get(url, params=params, headers=headers).json()\n",
    "\n",
    "print(res)\n"
   ]
  },
  {
   "cell_type": "code",
   "execution_count": 13,
   "id": "f3e10fed",
   "metadata": {},
   "outputs": [],
   "source": [
    "from tinydb import TinyDB, Query\n",
    "\n",
    "db = TinyDB('db.json')"
   ]
  },
  {
   "cell_type": "code",
   "execution_count": 14,
   "id": "062821f8",
   "metadata": {},
   "outputs": [
    {
     "name": "stderr",
     "output_type": "stream",
     "text": [
      "\r",
      "  0%|                                                                                           | 0/18 [00:00<?, ?it/s]"
     ]
    },
    {
     "name": "stdout",
     "output_type": "stream",
     "text": [
      "126.0 33.0\n",
      "126.0 33.25\n",
      "126.0 33.5\n",
      "126.0 33.75\n",
      "126.0 34.0\n",
      "126.0 34.25\n",
      "126.0 34.5\n",
      "126.0 34.75\n",
      "126.0 35.0\n",
      "126.0 35.25\n",
      "126.0 35.5\n",
      "126.0 35.75\n",
      "126.0 36.0\n",
      "126.0 36.25\n",
      "126.0 36.5\n",
      "126.0 36.75\n",
      "126.0 37.0\n",
      "126.0 37.25\n",
      "126.0 37.5\n",
      "126.0 37.75\n",
      "126.0 38.0\n",
      "126.0 38.25\n",
      "126.0 38.5\n",
      "126.0 38.75\n",
      "126.0 39.0\n",
      "126.0 39.25\n"
     ]
    },
    {
     "name": "stderr",
     "output_type": "stream",
     "text": [
      "\r",
      "  6%|████▌                                                                             | 1/18 [02:18<39:20, 138.86s/it]"
     ]
    },
    {
     "name": "stdout",
     "output_type": "stream",
     "text": [
      "126.25 33.0\n",
      "126.25 33.25\n",
      "126.25 33.5\n",
      "126.25 33.75\n",
      "126.25 34.0\n",
      "126.25 34.25\n",
      "126.25 34.5\n",
      "126.25 34.75\n",
      "126.25 35.0\n",
      "126.25 35.25\n",
      "126.25 35.5\n",
      "126.25 35.75\n",
      "126.25 36.0\n",
      "126.25 36.25\n",
      "126.25 36.5\n",
      "126.25 36.75\n",
      "126.25 37.0\n"
     ]
    },
    {
     "name": "stderr",
     "output_type": "stream",
     "text": [
      "  6%|████▍                                                                          | 1/18 [22:37<6:24:42, 1357.80s/it]\n"
     ]
    },
    {
     "ename": "ValueError",
     "evalue": "invalid literal for int() with base 10: '변동가격'",
     "output_type": "error",
     "traceback": [
      "\u001b[1;31m---------------------------------------------------------------------------\u001b[0m",
      "\u001b[1;31mValueError\u001b[0m                                Traceback (most recent call last)",
      "\u001b[1;32m~\\AppData\\Local\\Temp/ipykernel_15356/1007416206.py\u001b[0m in \u001b[0;36m<module>\u001b[1;34m\u001b[0m\n\u001b[0;32m     38\u001b[0m                     \u001b[0mprice\u001b[0m \u001b[1;33m=\u001b[0m \u001b[1;36m0\u001b[0m\u001b[1;33m\u001b[0m\u001b[1;33m\u001b[0m\u001b[0m\n\u001b[0;32m     39\u001b[0m                     \u001b[1;32mif\u001b[0m \u001b[1;34m'price'\u001b[0m \u001b[1;32min\u001b[0m \u001b[0mmenu_item\u001b[0m\u001b[1;33m:\u001b[0m\u001b[1;33m\u001b[0m\u001b[1;33m\u001b[0m\u001b[0m\n\u001b[1;32m---> 40\u001b[1;33m                         \u001b[0mprice\u001b[0m \u001b[1;33m=\u001b[0m \u001b[0mint\u001b[0m\u001b[1;33m(\u001b[0m\u001b[0mmenu_item\u001b[0m\u001b[1;33m[\u001b[0m\u001b[1;34m'price'\u001b[0m\u001b[1;33m]\u001b[0m\u001b[1;33m.\u001b[0m\u001b[0mreplace\u001b[0m\u001b[1;33m(\u001b[0m\u001b[1;34m','\u001b[0m\u001b[1;33m,\u001b[0m \u001b[1;34m''\u001b[0m\u001b[1;33m)\u001b[0m\u001b[1;33m)\u001b[0m\u001b[1;33m\u001b[0m\u001b[1;33m\u001b[0m\u001b[0m\n\u001b[0m\u001b[0;32m     41\u001b[0m \u001b[1;33m\u001b[0m\u001b[0m\n\u001b[0;32m     42\u001b[0m                     db.insert({\n",
      "\u001b[1;31mValueError\u001b[0m: invalid literal for int() with base 10: '변동가격'"
     ]
    }
   ],
   "source": [
    "# start_x = 126 # 126.0 - 130.0\n",
    "# start_y = 33 # 33.0 - 39.0\n",
    "\n",
    "# dx = 0.25\n",
    "# dy = 0.25\n",
    "\n",
    "# for i in tqdm(range(18)):\n",
    "#     for j in range(26):\n",
    "#         x = start_x + dx * i\n",
    "#         y = start_y + dy * j\n",
    "#         print(x, y)\n",
    "\n",
    "#         for page in range(1, 46):\n",
    "#             params = {\n",
    "#                 'query': '치킨',\n",
    "#                 'page': page,\n",
    "#                 'rect': f'{x},{y},{x + dx},{y + dy}'\n",
    "#             }\n",
    "\n",
    "#             res = requests.get(url, params=params, headers=headers).json()\n",
    "            \n",
    "#             if len(res['documents']) == 0:\n",
    "#                 break\n",
    "\n",
    "#             for doc in res['documents']:\n",
    "#                 place_name = doc['place_name']\n",
    "\n",
    "#                 detail_url = f'https://place.map.kakao.com/main/v/{doc[\"id\"]}'\n",
    "\n",
    "#                 data = requests.get(detail_url, headers=headers).json()\n",
    "\n",
    "#                 if 'menuInfo' not in data:\n",
    "#                     continue\n",
    "\n",
    "#                 menu_list = data['menuInfo']['menuList']\n",
    "\n",
    "#                 for menu_item in menu_list:\n",
    "#                     price = 0\n",
    "#                     if 'price' in menu_item:\n",
    "#                         price = int(menu_item['price'].replace(',', ''))\n",
    "\n",
    "#                     db.insert({\n",
    "#                         'place_name': place_name,\n",
    "#                         'menu': menu_item['menu'],\n",
    "#                         'price': price\n",
    "#                     })\n",
    "                \n",
    "#                 time.sleep(5)\n",
    "\n",
    "#             if res['meta']['is_end']:\n",
    "#                 break"
   ]
  },
  {
   "cell_type": "code",
   "execution_count": 15,
   "id": "5d1db8dd",
   "metadata": {},
   "outputs": [
    {
     "data": {
      "text/plain": [
       "<TinyDB tables=['_default'], tables_count=1, default_table_documents_count=2490, all_tables_documents_count=['_default=2490']>"
      ]
     },
     "execution_count": 15,
     "metadata": {},
     "output_type": "execute_result"
    }
   ],
   "source": [
    "db"
   ]
  },
  {
   "cell_type": "code",
   "execution_count": 16,
   "id": "386ff445",
   "metadata": {},
   "outputs": [
    {
     "data": {
      "text/plain": [
       "[{'place_name': '마담나탈리소셜클럽', 'menu': '글렌피딕 15Y', 'price': 250000},\n",
       " {'place_name': '굽네치킨 모슬포점',\n",
       "  'menu': '불금치킨+바비큐 시카고 피자+에그미니 타르트+콜라 1.25L',\n",
       "  'price': 40800},\n",
       " {'place_name': '굽네치킨 모슬포점',\n",
       "  'menu': '불금치킨+바비큐 시카고 피자+콜라 1.25L',\n",
       "  'price': 37000},\n",
       " {'place_name': '굽네치킨 제주노형점',\n",
       "  'menu': '불금치킨+바비큐 시카고 피자+에그미니 타르트+콜라 1.25L',\n",
       "  'price': 40800},\n",
       " {'place_name': '굽네치킨 제주노형점',\n",
       "  'menu': '불금치킨+바비큐 시카고 피자+콜라 1.25L',\n",
       "  'price': 37000},\n",
       " {'place_name': '굽네치킨 제주연동점',\n",
       "  'menu': '불금치킨+바비큐 시카고 피자+에그미니 타르트+콜라 1.25L',\n",
       "  'price': 40800},\n",
       " {'place_name': '굽네치킨 제주연동점',\n",
       "  'menu': '불금치킨+바비큐 시카고 피자+콜라 1.25L',\n",
       "  'price': 37000},\n",
       " {'place_name': '굽네치킨 애월점',\n",
       "  'menu': '불금치킨+바비큐 시카고 피자+에그미니 타르트+콜라 1.25L',\n",
       "  'price': 40800},\n",
       " {'place_name': '굽네치킨 애월점',\n",
       "  'menu': '불금치킨+바비큐 시카고 피자+콜라 1.25L',\n",
       "  'price': 37000},\n",
       " {'place_name': '굽네치킨 진도점',\n",
       "  'menu': '불금치킨+바비큐 시카고 피자+에그미니 타르트+콜라 1.25L',\n",
       "  'price': 40800},\n",
       " {'place_name': '굽네치킨 진도점',\n",
       "  'menu': '불금치킨+바비큐 시카고 피자+콜라 1.25L',\n",
       "  'price': 37000},\n",
       " {'place_name': '굽네치킨 영암삼호점',\n",
       "  'menu': '불금치킨+바비큐 시카고 피자+에그미니 타르트+콜라 1.25L',\n",
       "  'price': 40800},\n",
       " {'place_name': '굽네치킨 영암삼호점',\n",
       "  'menu': '불금치킨+바비큐 시카고 피자+콜라 1.25L',\n",
       "  'price': 37000},\n",
       " {'place_name': '굽네치킨 하당지구점',\n",
       "  'menu': '불금치킨+바비큐 시카고 피자+에그미니 타르트+콜라 1.25L',\n",
       "  'price': 40800},\n",
       " {'place_name': '굽네치킨 하당지구점',\n",
       "  'menu': '불금치킨+바비큐 시카고 피자+콜라 1.25L',\n",
       "  'price': 37000},\n",
       " {'place_name': '굽네치킨 무안남악점',\n",
       "  'menu': '불금치킨+바비큐 시카고 피자+에그미니 타르트+콜라 1.25L',\n",
       "  'price': 40800},\n",
       " {'place_name': '굽네치킨 무안남악점',\n",
       "  'menu': '불금치킨+바비큐 시카고 피자+콜라 1.25L',\n",
       "  'price': 37000},\n",
       " {'place_name': '굽네치킨 목포연산북항점',\n",
       "  'menu': '불금치킨+바비큐 시카고 피자+에그미니 타르트+콜라 1.25L',\n",
       "  'price': 40800},\n",
       " {'place_name': '굽네치킨 목포연산북항점',\n",
       "  'menu': '불금치킨+바비큐 시카고 피자+콜라 1.25L',\n",
       "  'price': 37000},\n",
       " {'place_name': '굽네치킨 상동하당점',\n",
       "  'menu': '불금치킨+바비큐 시카고 피자+에그미니 타르트+콜라 1.25L',\n",
       "  'price': 40800},\n",
       " {'place_name': '굽네치킨 상동하당점',\n",
       "  'menu': '불금치킨+바비큐 시카고 피자+콜라 1.25L',\n",
       "  'price': 37000},\n",
       " {'place_name': '굽네치킨 대성죽교점',\n",
       "  'menu': '불금치킨+바비큐 시카고 피자+에그미니 타르트+콜라 1.25L',\n",
       "  'price': 40800},\n",
       " {'place_name': '굽네치킨 대성죽교점',\n",
       "  'menu': '불금치킨+바비큐 시카고 피자+콜라 1.25L',\n",
       "  'price': 37000},\n",
       " {'place_name': '굽네치킨 홍농읍점',\n",
       "  'menu': '불금치킨+바비큐 시카고 피자+에그미니 타르트+콜라 1.25L',\n",
       "  'price': 40800},\n",
       " {'place_name': '굽네치킨 홍농읍점',\n",
       "  'menu': '불금치킨+바비큐 시카고 피자+콜라 1.25L',\n",
       "  'price': 37000},\n",
       " {'place_name': '코끼리수산&솔치킨', 'menu': '크레이피시', 'price': 160000},\n",
       " {'place_name': '코끼리수산&솔치킨', 'menu': '우럭', 'price': 40000},\n",
       " {'place_name': '코끼리수산&솔치킨', 'menu': '광어', 'price': 40000},\n",
       " {'place_name': '굽네치킨 서산예천점',\n",
       "  'menu': '불금치킨+바비큐 시카고 피자+에그미니 타르트+콜라 1.25L',\n",
       "  'price': 40800},\n",
       " {'place_name': '굽네치킨 서산예천점',\n",
       "  'menu': '불금치킨+바비큐 시카고 피자+콜라 1.25L',\n",
       "  'price': 37000},\n",
       " {'place_name': '굽네치킨 서산동문점',\n",
       "  'menu': '불금치킨+바비큐 시카고 피자+에그미니 타르트+콜라 1.25L',\n",
       "  'price': 40800},\n",
       " {'place_name': '굽네치킨 서산동문점',\n",
       "  'menu': '불금치킨+바비큐 시카고 피자+콜라 1.25L',\n",
       "  'price': 37000},\n",
       " {'place_name': '굽네치킨 충남태안점',\n",
       "  'menu': '불금치킨+바비큐 시카고 피자+에그미니 타르트+콜라 1.25L',\n",
       "  'price': 40800},\n",
       " {'place_name': '굽네치킨 충남태안점',\n",
       "  'menu': '불금치킨+바비큐 시카고 피자+콜라 1.25L',\n",
       "  'price': 37000},\n",
       " {'place_name': '굽네치킨 성연테크노벨리점',\n",
       "  'menu': '불금치킨+바비큐 시카고 피자+에그미니 타르트+콜라 1.25L',\n",
       "  'price': 40800},\n",
       " {'place_name': '굽네치킨 성연테크노벨리점',\n",
       "  'menu': '불금치킨+바비큐 시카고 피자+콜라 1.25L',\n",
       "  'price': 37000}]"
      ]
     },
     "execution_count": 16,
     "metadata": {},
     "output_type": "execute_result"
    }
   ],
   "source": [
    "db.search(Query().price > 35000)"
   ]
  },
  {
   "cell_type": "code",
   "execution_count": 17,
   "id": "d41484d5",
   "metadata": {},
   "outputs": [
    {
     "data": {
      "text/plain": [
       "[{'place_name': '굽네치킨 모슬포점',\n",
       "  'menu': '불금치킨+바비큐 시카고 피자+에그미니 타르트+콜라 1.25L',\n",
       "  'price': 40800},\n",
       " {'place_name': '굽네치킨 모슬포점',\n",
       "  'menu': '불금치킨+바비큐 시카고 피자+콜라 1.25L',\n",
       "  'price': 37000},\n",
       " {'place_name': '굽네치킨 제주노형점',\n",
       "  'menu': '불금치킨+바비큐 시카고 피자+에그미니 타르트+콜라 1.25L',\n",
       "  'price': 40800},\n",
       " {'place_name': '굽네치킨 제주노형점',\n",
       "  'menu': '불금치킨+바비큐 시카고 피자+콜라 1.25L',\n",
       "  'price': 37000},\n",
       " {'place_name': '굽네치킨 제주연동점',\n",
       "  'menu': '불금치킨+바비큐 시카고 피자+에그미니 타르트+콜라 1.25L',\n",
       "  'price': 40800},\n",
       " {'place_name': '굽네치킨 제주연동점',\n",
       "  'menu': '불금치킨+바비큐 시카고 피자+콜라 1.25L',\n",
       "  'price': 37000},\n",
       " {'place_name': '굽네치킨 애월점',\n",
       "  'menu': '불금치킨+바비큐 시카고 피자+에그미니 타르트+콜라 1.25L',\n",
       "  'price': 40800},\n",
       " {'place_name': '굽네치킨 애월점',\n",
       "  'menu': '불금치킨+바비큐 시카고 피자+콜라 1.25L',\n",
       "  'price': 37000},\n",
       " {'place_name': '굽네치킨 진도점',\n",
       "  'menu': '불금치킨+바비큐 시카고 피자+에그미니 타르트+콜라 1.25L',\n",
       "  'price': 40800},\n",
       " {'place_name': '굽네치킨 진도점',\n",
       "  'menu': '불금치킨+바비큐 시카고 피자+콜라 1.25L',\n",
       "  'price': 37000},\n",
       " {'place_name': '굽네치킨 영암삼호점',\n",
       "  'menu': '불금치킨+바비큐 시카고 피자+에그미니 타르트+콜라 1.25L',\n",
       "  'price': 40800},\n",
       " {'place_name': '굽네치킨 영암삼호점',\n",
       "  'menu': '불금치킨+바비큐 시카고 피자+콜라 1.25L',\n",
       "  'price': 37000},\n",
       " {'place_name': '굽네치킨 하당지구점',\n",
       "  'menu': '불금치킨+바비큐 시카고 피자+에그미니 타르트+콜라 1.25L',\n",
       "  'price': 40800},\n",
       " {'place_name': '굽네치킨 하당지구점',\n",
       "  'menu': '불금치킨+바비큐 시카고 피자+콜라 1.25L',\n",
       "  'price': 37000},\n",
       " {'place_name': '굽네치킨 무안남악점',\n",
       "  'menu': '불금치킨+바비큐 시카고 피자+에그미니 타르트+콜라 1.25L',\n",
       "  'price': 40800},\n",
       " {'place_name': '굽네치킨 무안남악점',\n",
       "  'menu': '불금치킨+바비큐 시카고 피자+콜라 1.25L',\n",
       "  'price': 37000},\n",
       " {'place_name': '굽네치킨 목포연산북항점',\n",
       "  'menu': '불금치킨+바비큐 시카고 피자+에그미니 타르트+콜라 1.25L',\n",
       "  'price': 40800},\n",
       " {'place_name': '굽네치킨 목포연산북항점',\n",
       "  'menu': '불금치킨+바비큐 시카고 피자+콜라 1.25L',\n",
       "  'price': 37000},\n",
       " {'place_name': '굽네치킨 상동하당점',\n",
       "  'menu': '불금치킨+바비큐 시카고 피자+에그미니 타르트+콜라 1.25L',\n",
       "  'price': 40800},\n",
       " {'place_name': '굽네치킨 상동하당점',\n",
       "  'menu': '불금치킨+바비큐 시카고 피자+콜라 1.25L',\n",
       "  'price': 37000},\n",
       " {'place_name': '굽네치킨 대성죽교점',\n",
       "  'menu': '불금치킨+바비큐 시카고 피자+에그미니 타르트+콜라 1.25L',\n",
       "  'price': 40800},\n",
       " {'place_name': '굽네치킨 대성죽교점',\n",
       "  'menu': '불금치킨+바비큐 시카고 피자+콜라 1.25L',\n",
       "  'price': 37000},\n",
       " {'place_name': '굽네치킨 홍농읍점',\n",
       "  'menu': '불금치킨+바비큐 시카고 피자+에그미니 타르트+콜라 1.25L',\n",
       "  'price': 40800},\n",
       " {'place_name': '굽네치킨 홍농읍점',\n",
       "  'menu': '불금치킨+바비큐 시카고 피자+콜라 1.25L',\n",
       "  'price': 37000},\n",
       " {'place_name': '굽네치킨 서산예천점',\n",
       "  'menu': '불금치킨+바비큐 시카고 피자+에그미니 타르트+콜라 1.25L',\n",
       "  'price': 40800},\n",
       " {'place_name': '굽네치킨 서산예천점',\n",
       "  'menu': '불금치킨+바비큐 시카고 피자+콜라 1.25L',\n",
       "  'price': 37000},\n",
       " {'place_name': '굽네치킨 서산동문점',\n",
       "  'menu': '불금치킨+바비큐 시카고 피자+에그미니 타르트+콜라 1.25L',\n",
       "  'price': 40800},\n",
       " {'place_name': '굽네치킨 서산동문점',\n",
       "  'menu': '불금치킨+바비큐 시카고 피자+콜라 1.25L',\n",
       "  'price': 37000},\n",
       " {'place_name': '굽네치킨 충남태안점',\n",
       "  'menu': '불금치킨+바비큐 시카고 피자+에그미니 타르트+콜라 1.25L',\n",
       "  'price': 40800},\n",
       " {'place_name': '굽네치킨 충남태안점',\n",
       "  'menu': '불금치킨+바비큐 시카고 피자+콜라 1.25L',\n",
       "  'price': 37000},\n",
       " {'place_name': '굽네치킨 성연테크노벨리점',\n",
       "  'menu': '불금치킨+바비큐 시카고 피자+에그미니 타르트+콜라 1.25L',\n",
       "  'price': 40800},\n",
       " {'place_name': '굽네치킨 성연테크노벨리점',\n",
       "  'menu': '불금치킨+바비큐 시카고 피자+콜라 1.25L',\n",
       "  'price': 37000}]"
      ]
     },
     "execution_count": 17,
     "metadata": {},
     "output_type": "execute_result"
    }
   ],
   "source": [
    "db.search((Query().price > 35000) & (Query().menu.search('치')))"
   ]
  },
  {
   "cell_type": "code",
   "execution_count": 18,
   "id": "13e4f71d",
   "metadata": {},
   "outputs": [
    {
     "name": "stdout",
     "output_type": "stream",
     "text": [
      "치킨 990개의 평균 가격은 19526.97원 입니다\n"
     ]
    }
   ],
   "source": [
    "chickens = db.search(Query().menu.search('치'))\n",
    "\n",
    "prices = []\n",
    "\n",
    "for chicken in chickens:\n",
    "    prices.append(chicken['price'])\n",
    "    \n",
    "avg_price = sum(prices) / len(prices)\n",
    "\n",
    "print('치킨 %d개의 평균 가격은 %.2f원 입니다' % (len(chickens), avg_price))"
   ]
  },
  {
   "cell_type": "code",
   "execution_count": 19,
   "id": "75f6e549",
   "metadata": {},
   "outputs": [
    {
     "data": {
      "text/plain": [
       "<AxesSubplot:ylabel='Count'>"
      ]
     },
     "execution_count": 19,
     "metadata": {},
     "output_type": "execute_result"
    },
    {
     "data": {
      "image/png": "[encoded data removed]",
      "text/plain": [
       "<Figure size 1440x720 with 1 Axes>"
      ]
     },
     "metadata": {
      "needs_background": "light"
     },
     "output_type": "display_data"
    }
   ],
   "source": [
    "import seaborn as sns\n",
    "import matplotlib.pyplot as plt\n",
    "\n",
    "fig, ax = plt.subplots(figsize=(20, 10))\n",
    "sns.histplot(x=prices, ax=ax)"
   ]
  },
  {
   "cell_type": "code",
   "execution_count": null,
   "id": "bffee8e2",
   "metadata": {},
   "outputs": [],
   "source": []
  }
 ],
 "metadata": {
  "kernelspec": {
   "display_name": "Python 3 (ipykernel)",
   "language": "python",
   "name": "python3"
  },
  "language_info": {
   "codemirror_mode": {
    "name": "ipython",
    "version": 3
   },
   "file_extension": ".py",
   "mimetype": "text/x-python",
   "name": "python",
   "nbconvert_exporter": "python",
   "pygments_lexer": "ipython3",
   "version": "3.9.7"
  }
 },
 "nbformat": 4,
 "nbformat_minor": 5
}
