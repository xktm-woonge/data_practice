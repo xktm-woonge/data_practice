{
 "cells": [
  {
   "cell_type": "code",
   "execution_count": 1,
   "id": "52ae9122",
   "metadata": {},
   "outputs": [
    {
     "name": "stdout",
     "output_type": "stream",
     "text": [
      "Collecting opencv-python\n",
      "  Downloading opencv_python-4.5.4.60-cp39-cp39-win_amd64.whl (35.1 MB)\n",
      "Requirement already satisfied: numpy>=1.19.3 in c:\\users\\woong\\anaconda\\lib\\site-packages (from opencv-python) (1.20.3)\n",
      "Installing collected packages: opencv-python\n",
      "Successfully installed opencv-python-4.5.4.60\n",
      "Note: you may need to restart the kernel to use updated packages.\n"
     ]
    }
   ],
   "source": [
    "pip install opencv-python"
   ]
  },
  {
   "cell_type": "code",
   "execution_count": 2,
   "id": "e5775cc9",
   "metadata": {},
   "outputs": [
    {
     "name": "stdout",
     "output_type": "stream",
     "text": [
      "Collecting opencv-contrib-python\n",
      "  Downloading opencv_contrib_python-4.5.4.60-cp39-cp39-win_amd64.whl (42.0 MB)\n",
      "Requirement already satisfied: numpy>=1.19.3 in c:\\users\\woong\\anaconda\\lib\\site-packages (from opencv-contrib-python) (1.20.3)\n",
      "Installing collected packages: opencv-contrib-python\n",
      "Successfully installed opencv-contrib-python-4.5.4.60\n",
      "Note: you may need to restart the kernel to use updated packages.\n"
     ]
    }
   ],
   "source": [
    "pip install opencv-contrib-python"
   ]
  },
  {
   "cell_type": "code",
   "execution_count": 1,
   "id": "0edf6df4",
   "metadata": {},
   "outputs": [],
   "source": [
    "import cv2\n",
    "import numpy as np"
   ]
  },
  {
   "cell_type": "code",
   "execution_count": 2,
   "id": "91c3854b",
   "metadata": {},
   "outputs": [],
   "source": [
    "video_path = 'BTB_OUT.mp4'\n",
    "cap = cv2.VideoCapture(video_path)"
   ]
  },
  {
   "cell_type": "code",
   "execution_count": 3,
   "id": "0c53f432",
   "metadata": {},
   "outputs": [],
   "source": [
    "output_size = (357, 667)\n",
    "\n",
    "#initialize writing video\n",
    "fourcc = cv2.VideoWriter_fourcc('m','p', '4', 'v')\n",
    "out = cv2.VideoWriter('%s_output.mp4' % (video_path.split('.')[0]), fourcc,\n",
    "                     cap.get(cv2.CAP_PROP_FPS), output_size)\n",
    "if not cap.isOpened(): #open이 되지 않는 경우 종료\n",
    "    exit()\n",
    "    \n",
    "ret, img = cap.read()\n",
    "\n",
    "tracker = cv2.TrackerCSRT_create()\n",
    "\n",
    "cv2.namedWindow('Selcet Window')\n",
    "cv2.imshow('Select Window', img)\n",
    "\n",
    "# setting ROI\n",
    "#ROI(Region of Interest) : 사용자가 관심있어 하는 부위\n",
    "rect = cv2.selectROI('Select Window', img, fromCenter=False, showCrosshair=True)\n",
    "cv2.destroyWindow('Select Window')\n",
    "\n",
    "\n",
    "#initialize tracker\n",
    "tracker.init(img, rect)\n",
    "    \n",
    "while True:\n",
    "    ret, img = cap.read()\n",
    "    \n",
    "    if not ret:\n",
    "        exit()\n",
    "        \n",
    "    success, box = tracker.update(img) #img에서 rect로 설정한 이미지와 비슷한 물체 위치 반환\n",
    "    \n",
    "    left, top, w, h = [int(a) for a in box] # 왼쪽, 위쪽, 너비, 높이 순\n",
    "    \n",
    "    center_x = left + w / 2\n",
    "    center_y = top + h / 2\n",
    "    \n",
    "    result_top = int(center_y - output_size[1] / 2)\n",
    "    result_bottom = int(center_y + output_size[1] / 2)\n",
    "    result_left = int(center_x - output_size[0] / 2)\n",
    "    result_right = int(center_x + output_size[0] / 2)\n",
    "    \n",
    "    result_img = img[result_top:result_bottom, result_left:result_right].copy()\n",
    "    \n",
    "    out.write(result_img)\n",
    "    cv2. rectangle(img, pt1=(left, top), pt2 = (left+w, top+h), color=(255, 255, 255), thickness=3) \n",
    "    #pt1(왼쪽 위), pt2(오른쪽 아래), 색, 사각형 두께\n",
    "    \n",
    "    cv2.imshow('result_img', result_img)\n",
    "    cv2.imshow('img', img)\n",
    "    if cv2.waitKey(1) == ord('q'):\n",
    "        break"
   ]
  },
  {
   "cell_type": "code",
   "execution_count": null,
   "id": "3193b648",
   "metadata": {},
   "outputs": [],
   "source": []
  }
 ],
 "metadata": {
  "kernelspec": {
   "display_name": "Python 3 (ipykernel)",
   "language": "python",
   "name": "python3"
  },
  "language_info": {
   "codemirror_mode": {
    "name": "ipython",
    "version": 3
   },
   "file_extension": ".py",
   "mimetype": "text/x-python",
   "name": "python",
   "nbconvert_exporter": "python",
   "pygments_lexer": "ipython3",
   "version": "3.9.7"
  }
 },
 "nbformat": 4,
 "nbformat_minor": 5
}
